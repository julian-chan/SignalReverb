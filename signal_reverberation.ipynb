{
 "cells": [
  {
   "cell_type": "code",
   "execution_count": 49,
   "metadata": {
    "collapsed": true
   },
   "outputs": [],
   "source": [
    "import numpy as np\n",
    "import matplotlib.pyplot as plt\n",
    "%matplotlib inline\n",
    "import soundfile as sf\n",
    "from scipy import signal\n",
    "import os"
   ]
  },
  {
   "cell_type": "code",
   "execution_count": 50,
   "metadata": {},
   "outputs": [],
   "source": [
    "song = 'crooked.wav'\n",
    "input_file = os.path.join('input', song)\n",
    "ir_file = 'impulse_responses/EchoThiefImpulseResponseLibrary/EchoThiefImpulseResponseLibrary/Venues/SteinmanHall.wav'\n",
    "output_file = os.path.join('output', song)"
   ]
  },
  {
   "cell_type": "code",
   "execution_count": 51,
   "metadata": {
    "collapsed": true
   },
   "outputs": [],
   "source": [
    "def read_input(wavfile):\n",
    "    \"\"\"\n",
    "    Reads in the wavfile as a numpy array and cleans and normalizes the signal. \n",
    "    Returns the normalized signal and the sampling frequency.\n",
    "    \n",
    "    Args:\n",
    "        wavfile: file path to .wav file\n",
    "    \n",
    "    Returns:\n",
    "        signal: numpy array of the wavfile sampled at fs\n",
    "        fs: sampling frequency\n",
    "    \"\"\"\n",
    "    signal, fs = sf.read(wavfile)\n",
    "    signal = signal.astype(np.float64)    # Cleaning\n",
    "    signal = signal / np.abs(np.max(signal))    # Normalization\n",
    "    \n",
    "    return signal, fs\n",
    "\n",
    "def fft_convolve(x, h):\n",
    "    \"\"\"\n",
    "    Convolved the signal x with an impulse response h. Returns the convolved signal trimmed to the same length as the input.\n",
    "    \n",
    "    Args:\n",
    "        x: input signal\n",
    "        h: impulse response\n",
    "    \n",
    "    Returns:\n",
    "        input signal convolved with the impulse response, trimmed to be the same length as the input signal\n",
    "    \"\"\"\n",
    "    result = signal.fftconvolve(x, h, mode='full')\n",
    "    \n",
    "    # Find where the impulse response is strongest; this is the \"start\" of the impulse response\n",
    "    # Accounts for impulse responses with a long pause before the actual response\n",
    "    p_max = np.argmax(np.abs(h))\n",
    "    \n",
    "    # Compensate for impulse response delay by shifting the convolved signal\n",
    "    output = np.empty_like(result)\n",
    "    shift = -p_max\n",
    "    if shift >= 0:\n",
    "        output[:shift] = 0.0\n",
    "        output[shift:] = result[:shift]\n",
    "    else:\n",
    "        output[shift:] = 0.0\n",
    "        output[:shift] = result[-shift:]\n",
    "    \n",
    "    # Trim the convolved signal to be the same length as the original\n",
    "    return output[0: x.shape[0]]"
   ]
  },
  {
   "cell_type": "code",
   "execution_count": 52,
   "metadata": {
    "collapsed": true
   },
   "outputs": [],
   "source": [
    "sgnl, fs = read_input(input_file)\n",
    "ir, fs_ir = read_input(ir_file)"
   ]
  },
  {
   "cell_type": "code",
   "execution_count": 53,
   "metadata": {
    "scrolled": false
   },
   "outputs": [],
   "source": [
    "signal_rev = fft_convolve(sgnl, ir)"
   ]
  },
  {
   "cell_type": "code",
   "execution_count": 54,
   "metadata": {},
   "outputs": [],
   "source": [
    "sf.write(output_file, signal_rev, fs)"
   ]
  },
  {
   "cell_type": "code",
   "execution_count": null,
   "metadata": {
    "collapsed": true
   },
   "outputs": [],
   "source": []
  }
 ],
 "metadata": {
  "kernelspec": {
   "display_name": "Python 3",
   "language": "python",
   "name": "python3"
  },
  "language_info": {
   "codemirror_mode": {
    "name": "ipython",
    "version": 3
   },
   "file_extension": ".py",
   "mimetype": "text/x-python",
   "name": "python",
   "nbconvert_exporter": "python",
   "pygments_lexer": "ipython3",
   "version": "3.6.1"
  }
 },
 "nbformat": 4,
 "nbformat_minor": 2
}
