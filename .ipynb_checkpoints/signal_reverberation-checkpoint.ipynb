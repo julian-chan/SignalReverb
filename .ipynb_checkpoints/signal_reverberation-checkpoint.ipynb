{
 "cells": [
  {
   "cell_type": "code",
   "execution_count": 1,
   "metadata": {
    "collapsed": true
   },
   "outputs": [],
   "source": [
    "import numpy as np\n",
    "import matplotlib.pyplot as plt\n",
    "%matplotlib inline\n",
    "import soundfile as sf\n",
    "from scipy import signal"
   ]
  },
  {
   "cell_type": "code",
   "execution_count": 2,
   "metadata": {
    "collapsed": true
   },
   "outputs": [],
   "source": [
    "input_file = ''\n",
    "ir_file = ''\n",
    "output_file = 'reverb_' + input_file"
   ]
  },
  {
   "cell_type": "code",
   "execution_count": null,
   "metadata": {
    "collapsed": true
   },
   "outputs": [],
   "source": [
    "def read_input(wavfile):\n",
    "    \"\"\"\n",
    "    Reads in the wavfile as a numpy array and cleans and normalizes the signal. \n",
    "    Returns the normalized signal and the sampling frequency.\n",
    "    \"\"\"\n",
    "    signal, fs = sf.read(wavfile)\n",
    "    signal = signal.astype(np.float64)    # Cleaning\n",
    "    signal = signal / np.abs(np.max(signal))    # Normalization\n",
    "    \n",
    "    return signal, fs"
   ]
  },
  {
   "cell_type": "code",
   "execution_count": 25,
   "metadata": {
    "collapsed": true
   },
   "outputs": [],
   "source": [
    "signal, fs = read_input(input_file)\n",
    "ir, fs_ir = read_input(ir_file)\n",
    "p_max = np.argmax(np.abs(ir))"
   ]
  },
  {
   "cell_type": "code",
   "execution_count": 32,
   "metadata": {
    "collapsed": true
   },
   "outputs": [],
   "source": [
    "signal_rev = signal.fftconvolve(sgnl, ir, mode='full')    # convolving signal with impulse response"
   ]
  },
  {
   "cell_type": "code",
   "execution_count": 38,
   "metadata": {
    "collapsed": true
   },
   "outputs": [],
   "source": [
    "def shift(arr, amt):\n",
    "    output = np.empty_like(arr)\n",
    "    if amt >= 0:\n",
    "        output[:amt] = 0.0\n",
    "        output[amt:] = arr[:-amt]\n",
    "    else:\n",
    "        output[amt:] = 0.0\n",
    "        output[:amt] = arr[-amt:]\n",
    "    return output"
   ]
  },
  {
   "cell_type": "code",
   "execution_count": 39,
   "metadata": {
    "collapsed": true
   },
   "outputs": [],
   "source": [
    "signal_rev = shift(signal_rev, -p_max)    # compensating for impulse response delay"
   ]
  },
  {
   "cell_type": "code",
   "execution_count": 40,
   "metadata": {
    "collapsed": true
   },
   "outputs": [],
   "source": [
    "signal_rev = signal_rev[0:signal_clean.shape[0]]    # cut the reverberated signal to be the same length as the original"
   ]
  },
  {
   "cell_type": "code",
   "execution_count": 41,
   "metadata": {
    "collapsed": true
   },
   "outputs": [],
   "source": [
    "sf.write('reverberated_sound.wav', signal_rev, fs)"
   ]
  },
  {
   "cell_type": "code",
   "execution_count": null,
   "metadata": {
    "collapsed": true
   },
   "outputs": [],
   "source": []
  }
 ],
 "metadata": {
  "kernelspec": {
   "display_name": "Python 3",
   "language": "python",
   "name": "python3"
  },
  "language_info": {
   "codemirror_mode": {
    "name": "ipython",
    "version": 3
   },
   "file_extension": ".py",
   "mimetype": "text/x-python",
   "name": "python",
   "nbconvert_exporter": "python",
   "pygments_lexer": "ipython3",
   "version": "3.6.1"
  }
 },
 "nbformat": 4,
 "nbformat_minor": 2
}
